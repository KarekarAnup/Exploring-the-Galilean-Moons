{
 "cells": [
  {
   "cell_type": "markdown",
   "id": "1649f136",
   "metadata": {},
   "source": [
    "# Exploring the Galilean Moons: A Data Analysis of Jupiter's Major Satellites\n",
    "\n",
    "### Introduction\n",
    "\n",
    "Jupiter, the largest planet in our solar system, is orbited by a multitude of moons, each possessing unique characteristics and fascinating properties. This project aims to explore and analyze a dataset containing information about four of Jupiter's major moons: Io, Europa, Ganymede, and Callisto. These moons, often referred to as the Galilean moons, were first observed by Galileo Galilei in 1610 and have since been the subject of extensive astronomical research.\n",
    "\n",
    "The dataset provides key details about these moons, including their mean radii and orbital periods. By analyzing this data, we can gain insights into the physical dimensions and orbital mechanics of these celestial bodies. Understanding these properties not only enhances our knowledge of Jupiter's moon system but also contributes to the broader field of planetary science.\n",
    "\n",
    "This project will involve various stages of data analysis, starting with the creation and examination of the dataframe, followed by descriptive statistics to summarize the data. We will then perform operations such as sorting, filtering, and adding new columns to derive additional insights. Furthermore, visualizations will be generated to provide a more intuitive understanding of the relationships and characteristics within the dataset.\n",
    "\n",
    "Through this systematic approach, we aim to highlight the unique features of each moon and draw comparisons that may reveal underlying patterns or intriguing anomalies. Ultimately, this project serves as an educational exercise in data analysis, employing techniques that are widely applicable in both astronomical research and data science at large.\n",
    "\n",
    "---\n",
    "### Aim\n",
    "\n",
    "The aim of this project is to explore and analyze key characteristics of Jupiter's major moons—Io, Europa, Ganymede, and Callisto—using a dataset that includes their mean radii and orbital periods. Through this analysis, we seek to understand the physical dimensions and orbital dynamics of these celestial bodies, contributing to our knowledge of the Jovian system and planetary science.\n",
    "\n",
    "---\n",
    "### Objectives\n",
    "\n",
    "1. **Data Examination and Preparation:**\n",
    "   - Create and display a dataframe containing information about the mean radii and orbital periods of Jupiter's major moons.\n",
    "   - Ensure the dataset is clean, accurate, and ready for analysis.\n",
    "\n",
    "2. **Descriptive Statistics:**\n",
    "   - Generate and interpret summary statistics for the numeric columns in the dataset to understand the basic properties of the data.\n",
    "\n",
    "3. **Data Sorting and Filtering:**\n",
    "   - Sort the moons by their mean radius to identify the largest and smallest moons.\n",
    "   - Filter the dataset to isolate moons based on specific criteria, such as orbital period less than 10 days.\n",
    "\n",
    "4. **Data Enrichment:**\n",
    "   - Add new columns to the dataframe, such as calculating the mean diameter from the mean radius, to enhance the dataset with additional relevant information.\n",
    "\n",
    "5. **Data Visualization:**\n",
    "   - Create visual representations of the data, such as bar plots for mean radii and scatter plots for orbital periods versus mean radii, to facilitate a better understanding of the relationships and characteristics within the dataset.\n",
    "\n",
    "6. **Insight Extraction:**\n",
    "   - Analyze the visualizations and statistical summaries to extract insights about the physical and orbital properties of the moons.\n",
    "   - Compare and contrast the moons to highlight unique features and patterns.\n",
    "\n",
    "7. **Documentation and Reporting:**\n",
    "   - Document the analysis process, results, and findings in a clear and structured manner.\n",
    "   - Provide a comprehensive report that includes the introduction, methodology, results, and conclusions drawn from the analysis.\n",
    "   \n",
    "---"
   ]
  },
  {
   "cell_type": "code",
   "execution_count": 1,
   "id": "e055d825",
   "metadata": {},
   "outputs": [],
   "source": [
    "import pandas as pd\n",
    "import matplotlib.pyplot as plt\n",
    "import numpy as np"
   ]
  },
  {
   "cell_type": "code",
   "execution_count": 2,
   "id": "83647f8d",
   "metadata": {},
   "outputs": [],
   "source": [
    "df = pd.read_csv('jupiters_moons_synthetic_data.csv')"
   ]
  },
  {
   "cell_type": "code",
   "execution_count": 3,
   "id": "ed02834e",
   "metadata": {},
   "outputs": [
    {
     "data": {
      "text/html": [
       "<div>\n",
       "<style scoped>\n",
       "    .dataframe tbody tr th:only-of-type {\n",
       "        vertical-align: middle;\n",
       "    }\n",
       "\n",
       "    .dataframe tbody tr th {\n",
       "        vertical-align: top;\n",
       "    }\n",
       "\n",
       "    .dataframe thead th {\n",
       "        text-align: right;\n",
       "    }\n",
       "</style>\n",
       "<table border=\"1\" class=\"dataframe\">\n",
       "  <thead>\n",
       "    <tr style=\"text-align: right;\">\n",
       "      <th></th>\n",
       "      <th>Name</th>\n",
       "      <th>Semimajor Axis (km)</th>\n",
       "      <th>Orbital Period (days)</th>\n",
       "      <th>Eccentricity</th>\n",
       "      <th>Inclination (degrees)</th>\n",
       "      <th>Mean Radius (km)</th>\n",
       "      <th>Mass (10^16 kg)</th>\n",
       "      <th>Orbital Speed (km/day)</th>\n",
       "      <th>Surface Area (sq km)</th>\n",
       "      <th>Volume (cubic km)</th>\n",
       "      <th>Density (g/cm^3)</th>\n",
       "    </tr>\n",
       "  </thead>\n",
       "  <tbody>\n",
       "    <tr>\n",
       "      <th>0</th>\n",
       "      <td>Metis</td>\n",
       "      <td>127979.0</td>\n",
       "      <td>0.294780</td>\n",
       "      <td>0.0004</td>\n",
       "      <td>0.00</td>\n",
       "      <td>20.0</td>\n",
       "      <td>3.600000e+00</td>\n",
       "      <td>2.727851e+06</td>\n",
       "      <td>5.026548e+03</td>\n",
       "      <td>3.351032e+04</td>\n",
       "      <td>1.074296e+07</td>\n",
       "    </tr>\n",
       "    <tr>\n",
       "      <th>1</th>\n",
       "      <td>Adrastea</td>\n",
       "      <td>128980.0</td>\n",
       "      <td>0.298260</td>\n",
       "      <td>0.0000</td>\n",
       "      <td>0.00</td>\n",
       "      <td>10.0</td>\n",
       "      <td>1.910000e+00</td>\n",
       "      <td>2.717110e+06</td>\n",
       "      <td>1.256637e+03</td>\n",
       "      <td>4.188790e+03</td>\n",
       "      <td>4.559789e+07</td>\n",
       "    </tr>\n",
       "    <tr>\n",
       "      <th>2</th>\n",
       "      <td>Amalthea</td>\n",
       "      <td>181300.0</td>\n",
       "      <td>0.498179</td>\n",
       "      <td>0.0030</td>\n",
       "      <td>0.40</td>\n",
       "      <td>86.0</td>\n",
       "      <td>7.170000e+02</td>\n",
       "      <td>2.286611e+06</td>\n",
       "      <td>9.294088e+04</td>\n",
       "      <td>2.664305e+06</td>\n",
       "      <td>2.691133e+07</td>\n",
       "    </tr>\n",
       "    <tr>\n",
       "      <th>3</th>\n",
       "      <td>Thebe</td>\n",
       "      <td>221900.0</td>\n",
       "      <td>0.674500</td>\n",
       "      <td>0.0150</td>\n",
       "      <td>0.80</td>\n",
       "      <td>50.0</td>\n",
       "      <td>7.770000e+01</td>\n",
       "      <td>2.067070e+06</td>\n",
       "      <td>3.141593e+04</td>\n",
       "      <td>5.235988e+05</td>\n",
       "      <td>1.483961e+07</td>\n",
       "    </tr>\n",
       "    <tr>\n",
       "      <th>4</th>\n",
       "      <td>Io</td>\n",
       "      <td>421600.0</td>\n",
       "      <td>1.769138</td>\n",
       "      <td>0.0041</td>\n",
       "      <td>0.04</td>\n",
       "      <td>1821.0</td>\n",
       "      <td>8.930000e+08</td>\n",
       "      <td>1.497334e+06</td>\n",
       "      <td>4.167060e+07</td>\n",
       "      <td>2.529405e+10</td>\n",
       "      <td>3.530474e+09</td>\n",
       "    </tr>\n",
       "  </tbody>\n",
       "</table>\n",
       "</div>"
      ],
      "text/plain": [
       "       Name  Semimajor Axis (km)  Orbital Period (days)  Eccentricity  \\\n",
       "0     Metis             127979.0               0.294780        0.0004   \n",
       "1  Adrastea             128980.0               0.298260        0.0000   \n",
       "2  Amalthea             181300.0               0.498179        0.0030   \n",
       "3     Thebe             221900.0               0.674500        0.0150   \n",
       "4        Io             421600.0               1.769138        0.0041   \n",
       "\n",
       "   Inclination (degrees)  Mean Radius (km)  Mass (10^16 kg)  \\\n",
       "0                   0.00              20.0     3.600000e+00   \n",
       "1                   0.00              10.0     1.910000e+00   \n",
       "2                   0.40              86.0     7.170000e+02   \n",
       "3                   0.80              50.0     7.770000e+01   \n",
       "4                   0.04            1821.0     8.930000e+08   \n",
       "\n",
       "   Orbital Speed (km/day)  Surface Area (sq km)  Volume (cubic km)  \\\n",
       "0            2.727851e+06          5.026548e+03       3.351032e+04   \n",
       "1            2.717110e+06          1.256637e+03       4.188790e+03   \n",
       "2            2.286611e+06          9.294088e+04       2.664305e+06   \n",
       "3            2.067070e+06          3.141593e+04       5.235988e+05   \n",
       "4            1.497334e+06          4.167060e+07       2.529405e+10   \n",
       "\n",
       "   Density (g/cm^3)  \n",
       "0      1.074296e+07  \n",
       "1      4.559789e+07  \n",
       "2      2.691133e+07  \n",
       "3      1.483961e+07  \n",
       "4      3.530474e+09  "
      ]
     },
     "execution_count": 3,
     "metadata": {},
     "output_type": "execute_result"
    }
   ],
   "source": [
    "df"
   ]
  },
  {
   "cell_type": "markdown",
   "id": "1168bcb1",
   "metadata": {},
   "source": [
    "## 1.0. Statistical Analysis"
   ]
  },
  {
   "cell_type": "markdown",
   "id": "a161ac47",
   "metadata": {},
   "source": [
    "#### 1.1. Descriptive Statistics"
   ]
  },
  {
   "cell_type": "code",
   "execution_count": 4,
   "id": "94271512",
   "metadata": {},
   "outputs": [
    {
     "data": {
      "text/html": [
       "<div>\n",
       "<style scoped>\n",
       "    .dataframe tbody tr th:only-of-type {\n",
       "        vertical-align: middle;\n",
       "    }\n",
       "\n",
       "    .dataframe tbody tr th {\n",
       "        vertical-align: top;\n",
       "    }\n",
       "\n",
       "    .dataframe thead th {\n",
       "        text-align: right;\n",
       "    }\n",
       "</style>\n",
       "<table border=\"1\" class=\"dataframe\">\n",
       "  <thead>\n",
       "    <tr style=\"text-align: right;\">\n",
       "      <th></th>\n",
       "      <th>Semimajor Axis (km)</th>\n",
       "      <th>Orbital Period (days)</th>\n",
       "      <th>Eccentricity</th>\n",
       "      <th>Inclination (degrees)</th>\n",
       "      <th>Mean Radius (km)</th>\n",
       "      <th>Mass (10^16 kg)</th>\n",
       "      <th>Orbital Speed (km/day)</th>\n",
       "      <th>Surface Area (sq km)</th>\n",
       "      <th>Volume (cubic km)</th>\n",
       "      <th>Density (g/cm^3)</th>\n",
       "    </tr>\n",
       "  </thead>\n",
       "  <tbody>\n",
       "    <tr>\n",
       "      <th>count</th>\n",
       "      <td>5.000000</td>\n",
       "      <td>5.000000</td>\n",
       "      <td>5.000000</td>\n",
       "      <td>5.000000</td>\n",
       "      <td>5.000000</td>\n",
       "      <td>5.000000e+00</td>\n",
       "      <td>5.000000e+00</td>\n",
       "      <td>5.000000e+00</td>\n",
       "      <td>5.000000e+00</td>\n",
       "      <td>5.000000e+00</td>\n",
       "    </tr>\n",
       "    <tr>\n",
       "      <th>mean</th>\n",
       "      <td>216351.800000</td>\n",
       "      <td>0.706971</td>\n",
       "      <td>0.004500</td>\n",
       "      <td>0.248000</td>\n",
       "      <td>397.400000</td>\n",
       "      <td>1.786002e+08</td>\n",
       "      <td>2.259195e+06</td>\n",
       "      <td>8.360248e+06</td>\n",
       "      <td>5.059456e+09</td>\n",
       "      <td>7.257131e+08</td>\n",
       "    </tr>\n",
       "    <tr>\n",
       "      <th>std</th>\n",
       "      <td>121274.294499</td>\n",
       "      <td>0.614368</td>\n",
       "      <td>0.006118</td>\n",
       "      <td>0.351454</td>\n",
       "      <td>796.367252</td>\n",
       "      <td>3.993617e+08</td>\n",
       "      <td>5.117176e+05</td>\n",
       "      <td>1.862109e+07</td>\n",
       "      <td>1.131148e+10</td>\n",
       "      <td>1.567967e+09</td>\n",
       "    </tr>\n",
       "    <tr>\n",
       "      <th>min</th>\n",
       "      <td>127979.000000</td>\n",
       "      <td>0.294780</td>\n",
       "      <td>0.000000</td>\n",
       "      <td>0.000000</td>\n",
       "      <td>10.000000</td>\n",
       "      <td>1.910000e+00</td>\n",
       "      <td>1.497334e+06</td>\n",
       "      <td>1.256637e+03</td>\n",
       "      <td>4.188790e+03</td>\n",
       "      <td>1.074296e+07</td>\n",
       "    </tr>\n",
       "    <tr>\n",
       "      <th>25%</th>\n",
       "      <td>128980.000000</td>\n",
       "      <td>0.298260</td>\n",
       "      <td>0.000400</td>\n",
       "      <td>0.000000</td>\n",
       "      <td>20.000000</td>\n",
       "      <td>3.600000e+00</td>\n",
       "      <td>2.067070e+06</td>\n",
       "      <td>5.026548e+03</td>\n",
       "      <td>3.351032e+04</td>\n",
       "      <td>1.483961e+07</td>\n",
       "    </tr>\n",
       "    <tr>\n",
       "      <th>50%</th>\n",
       "      <td>181300.000000</td>\n",
       "      <td>0.498179</td>\n",
       "      <td>0.003000</td>\n",
       "      <td>0.040000</td>\n",
       "      <td>50.000000</td>\n",
       "      <td>7.770000e+01</td>\n",
       "      <td>2.286611e+06</td>\n",
       "      <td>3.141593e+04</td>\n",
       "      <td>5.235988e+05</td>\n",
       "      <td>2.691133e+07</td>\n",
       "    </tr>\n",
       "    <tr>\n",
       "      <th>75%</th>\n",
       "      <td>221900.000000</td>\n",
       "      <td>0.674500</td>\n",
       "      <td>0.004100</td>\n",
       "      <td>0.400000</td>\n",
       "      <td>86.000000</td>\n",
       "      <td>7.170000e+02</td>\n",
       "      <td>2.717110e+06</td>\n",
       "      <td>9.294088e+04</td>\n",
       "      <td>2.664305e+06</td>\n",
       "      <td>4.559789e+07</td>\n",
       "    </tr>\n",
       "    <tr>\n",
       "      <th>max</th>\n",
       "      <td>421600.000000</td>\n",
       "      <td>1.769138</td>\n",
       "      <td>0.015000</td>\n",
       "      <td>0.800000</td>\n",
       "      <td>1821.000000</td>\n",
       "      <td>8.930000e+08</td>\n",
       "      <td>2.727851e+06</td>\n",
       "      <td>4.167060e+07</td>\n",
       "      <td>2.529405e+10</td>\n",
       "      <td>3.530474e+09</td>\n",
       "    </tr>\n",
       "  </tbody>\n",
       "</table>\n",
       "</div>"
      ],
      "text/plain": [
       "       Semimajor Axis (km)  Orbital Period (days)  Eccentricity  \\\n",
       "count             5.000000               5.000000      5.000000   \n",
       "mean         216351.800000               0.706971      0.004500   \n",
       "std          121274.294499               0.614368      0.006118   \n",
       "min          127979.000000               0.294780      0.000000   \n",
       "25%          128980.000000               0.298260      0.000400   \n",
       "50%          181300.000000               0.498179      0.003000   \n",
       "75%          221900.000000               0.674500      0.004100   \n",
       "max          421600.000000               1.769138      0.015000   \n",
       "\n",
       "       Inclination (degrees)  Mean Radius (km)  Mass (10^16 kg)  \\\n",
       "count               5.000000          5.000000     5.000000e+00   \n",
       "mean                0.248000        397.400000     1.786002e+08   \n",
       "std                 0.351454        796.367252     3.993617e+08   \n",
       "min                 0.000000         10.000000     1.910000e+00   \n",
       "25%                 0.000000         20.000000     3.600000e+00   \n",
       "50%                 0.040000         50.000000     7.770000e+01   \n",
       "75%                 0.400000         86.000000     7.170000e+02   \n",
       "max                 0.800000       1821.000000     8.930000e+08   \n",
       "\n",
       "       Orbital Speed (km/day)  Surface Area (sq km)  Volume (cubic km)  \\\n",
       "count            5.000000e+00          5.000000e+00       5.000000e+00   \n",
       "mean             2.259195e+06          8.360248e+06       5.059456e+09   \n",
       "std              5.117176e+05          1.862109e+07       1.131148e+10   \n",
       "min              1.497334e+06          1.256637e+03       4.188790e+03   \n",
       "25%              2.067070e+06          5.026548e+03       3.351032e+04   \n",
       "50%              2.286611e+06          3.141593e+04       5.235988e+05   \n",
       "75%              2.717110e+06          9.294088e+04       2.664305e+06   \n",
       "max              2.727851e+06          4.167060e+07       2.529405e+10   \n",
       "\n",
       "       Density (g/cm^3)  \n",
       "count      5.000000e+00  \n",
       "mean       7.257131e+08  \n",
       "std        1.567967e+09  \n",
       "min        1.074296e+07  \n",
       "25%        1.483961e+07  \n",
       "50%        2.691133e+07  \n",
       "75%        4.559789e+07  \n",
       "max        3.530474e+09  "
      ]
     },
     "execution_count": 4,
     "metadata": {},
     "output_type": "execute_result"
    }
   ],
   "source": [
    "df.describe()"
   ]
  },
  {
   "cell_type": "markdown",
   "id": "ec3eabee",
   "metadata": {},
   "source": [
    "#### 1.2. Correlation matrix\n",
    "Assess the correlation between different variables to identify relationships."
   ]
  },
  {
   "cell_type": "code",
   "execution_count": 5,
   "id": "04a4d883",
   "metadata": {},
   "outputs": [
    {
     "name": "stdout",
     "output_type": "stream",
     "text": [
      "                        Semimajor Axis (km)  Orbital Period (days)  \\\n",
      "Semimajor Axis (km)                1.000000               0.997498   \n",
      "Orbital Period (days)              0.997498               1.000000   \n",
      "Eccentricity                       0.264246               0.204629   \n",
      "Inclination (degrees)             -0.008049              -0.077583   \n",
      "Mean Radius (km)                   0.953570               0.972021   \n",
      "Mass (10^16 kg)                    0.946097               0.966471   \n",
      "Orbital Speed (km/day)            -0.966120              -0.945534   \n",
      "Surface Area (sq km)               0.946434               0.966725   \n",
      "Volume (cubic km)                  0.946110               0.966481   \n",
      "Density (g/cm^3)                   0.945061               0.965626   \n",
      "\n",
      "                        Eccentricity  Inclination (degrees)  Mean Radius (km)  \\\n",
      "Semimajor Axis (km)         0.264246              -0.008049          0.953570   \n",
      "Orbital Period (days)       0.204629              -0.077583          0.972021   \n",
      "Eccentricity                1.000000               0.905033         -0.023573   \n",
      "Inclination (degrees)       0.905033               1.000000         -0.308639   \n",
      "Mean Radius (km)           -0.023573              -0.308639          1.000000   \n",
      "Mass (10^16 kg)            -0.036549              -0.330841          0.999309   \n",
      "Orbital Speed (km/day)     -0.458029              -0.240774         -0.846990   \n",
      "Surface Area (sq km)       -0.036217              -0.329958          0.999378   \n",
      "Volume (cubic km)          -0.036545              -0.330809          0.999312   \n",
      "Density (g/cm^3)           -0.040290              -0.333910          0.999202   \n",
      "\n",
      "                        Mass (10^16 kg)  Orbital Speed (km/day)  \\\n",
      "Semimajor Axis (km)            0.946097               -0.966120   \n",
      "Orbital Period (days)          0.966471               -0.945534   \n",
      "Eccentricity                  -0.036549               -0.458029   \n",
      "Inclination (degrees)         -0.330841               -0.240774   \n",
      "Mean Radius (km)               0.999309               -0.846990   \n",
      "Mass (10^16 kg)                1.000000               -0.832282   \n",
      "Orbital Speed (km/day)        -0.832282                1.000000   \n",
      "Surface Area (sq km)           0.999998               -0.832948   \n",
      "Volume (cubic km)              1.000000               -0.832309   \n",
      "Density (g/cm^3)               0.999963               -0.830656   \n",
      "\n",
      "                        Surface Area (sq km)  Volume (cubic km)  \\\n",
      "Semimajor Axis (km)                 0.946434           0.946110   \n",
      "Orbital Period (days)               0.966725           0.966481   \n",
      "Eccentricity                       -0.036217          -0.036545   \n",
      "Inclination (degrees)              -0.329958          -0.330809   \n",
      "Mean Radius (km)                    0.999378           0.999312   \n",
      "Mass (10^16 kg)                     0.999998           1.000000   \n",
      "Orbital Speed (km/day)             -0.832948          -0.832309   \n",
      "Surface Area (sq km)                1.000000           0.999998   \n",
      "Volume (cubic km)                   0.999998           1.000000   \n",
      "Density (g/cm^3)                    0.999960           0.999963   \n",
      "\n",
      "                        Density (g/cm^3)  \n",
      "Semimajor Axis (km)             0.945061  \n",
      "Orbital Period (days)           0.965626  \n",
      "Eccentricity                   -0.040290  \n",
      "Inclination (degrees)          -0.333910  \n",
      "Mean Radius (km)                0.999202  \n",
      "Mass (10^16 kg)                 0.999963  \n",
      "Orbital Speed (km/day)         -0.830656  \n",
      "Surface Area (sq km)            0.999960  \n",
      "Volume (cubic km)               0.999963  \n",
      "Density (g/cm^3)                1.000000  \n"
     ]
    },
    {
     "name": "stderr",
     "output_type": "stream",
     "text": [
      "C:\\Users\\Anup\\AppData\\Local\\Temp\\ipykernel_9276\\2020863294.py:1: FutureWarning: The default value of numeric_only in DataFrame.corr is deprecated. In a future version, it will default to False. Select only valid columns or specify the value of numeric_only to silence this warning.\n",
      "  correlation_matrix = df.corr()\n"
     ]
    }
   ],
   "source": [
    "correlation_matrix = df.corr()\n",
    "print(correlation_matrix)"
   ]
  },
  {
   "cell_type": "markdown",
   "id": "0c2533dd",
   "metadata": {},
   "source": [
    "The correlation matrix provides a comprehensive overview of the linear relationships between the various variables in our dataset. Here’s a detailed analysis and interpretation of the key findings from the correlation matrix:\n",
    "\n",
    "#### Strong Positive Correlations\n",
    "\n",
    "1. **Semimajor Axis (km) and Orbital Period (days) (0.9975)**\n",
    "   - This nearly perfect correlation aligns with Kepler's third law, which states that the square of the orbital period of a moon is proportional to the cube of the semi-major axis of its orbit. This indicates that moons further from Jupiter have longer orbital periods.\n",
    "\n",
    "2. **Mean Radius (km), Mass (10^16 kg), Surface Area (sq km), Volume (cubic km), and Density (g/cm^3)**\n",
    "   - These variables all show near-perfect correlations with each other (values close to 1.0), which is expected since these physical characteristics are mathematically related. For instance:\n",
    "     - Surface Area is calculated from the radius using \\(4 \\pi r^2\\).\n",
    "     - Volume is calculated using \\(\\frac{4}{3} \\pi r^3\\).\n",
    "     - Mass and density are inherently related to volume.\n",
    "\n",
    "3. **Semimajor Axis (km) and Mean Radius (km) (0.9536)**\n",
    "   - This strong positive correlation suggests that larger moons tend to orbit further from Jupiter.\n",
    "\n",
    "4. **Orbital Period (days) and Mean Radius (km) (0.9720)**\n",
    "   - This indicates that moons with larger radii tend to have longer orbital periods, which makes sense given that larger moons are generally found further out from Jupiter.\n",
    "\n",
    "#### Moderate to Strong Negative Correlations\n",
    "\n",
    "1. **Orbital Speed (km/day) and Mean Radius (km) (-0.8470)**\n",
    "   - This strong negative correlation indicates that moons with larger radii tend to have slower orbital speeds. Larger moons, often farther from Jupiter, travel slower due to the larger circumference of their orbits and the weaker gravitational pull from Jupiter at greater distances.\n",
    "\n",
    "2. **Orbital Speed (km/day) and Semimajor Axis (km) (-0.9661)**\n",
    "   - This strong negative correlation suggests that moons orbiting further from Jupiter (larger semimajor axis) have slower orbital speeds, again aligning with Kepler's laws of planetary motion.\n",
    "\n",
    "#### Moderate Correlations\n",
    "\n",
    "1. **Eccentricity and Inclination (degrees) (0.9050)**\n",
    "   - This indicates a strong relationship between a moon’s orbital eccentricity and its orbital inclination. Moons with more elliptical orbits tend to have higher inclinations, meaning their orbits are more tilted relative to Jupiter's equatorial plane.\n",
    "\n",
    "2. **Semimajor Axis (km) and Eccentricity (0.2642)**\n",
    "   - This moderate positive correlation suggests that moons further from Jupiter tend to have slightly more eccentric orbits, although the relationship is not very strong.\n",
    "\n",
    "#### Weak and Non-significant Correlations\n",
    "\n",
    "1. **Inclination (degrees) with most other variables**\n",
    "   - Inclination shows generally weak correlations with other variables, suggesting that the tilt of a moon's orbit is relatively independent of its size, distance from Jupiter, or other physical characteristics.\n",
    "\n",
    "#### Specific Variable Analysis\n",
    "\n",
    "##### Mean Radius (km) and Its Implications\n",
    "- The strong correlations of mean radius with mass (0.9993), surface area (0.9994), volume (0.9993), and density (0.9992) indicate that a moon's radius is a critical determinant of its physical properties. This underscores the importance of the radius in understanding the overall structure and composition of the moons.\n",
    "\n",
    "##### Eccentricity\n",
    "- Eccentricity shows weak correlations with most variables except for inclination (0.9050). This suggests that while eccentricity and inclination are closely related, eccentricity alone does not strongly determine other physical or orbital properties of the moons.\n",
    "\n",
    "#### Summary\n",
    "\n",
    "The correlation matrix highlights the interconnectedness of the physical and orbital characteristics of Jupiter’s moons. The near-perfect correlations between physical properties like radius, mass, surface area, volume, and density are expected and validate the consistency of the dataset. The strong positive correlations between the semimajor axis and orbital period confirm the application of Kepler’s laws. The negative correlations between orbital speed and both semimajor axis and mean radius further reinforce the understanding of orbital mechanics, where moons farther from Jupiter move more slowly in their orbits.\n",
    "\n",
    "Overall, the correlation analysis provides a robust framework for understanding the dynamics and physical attributes of Jupiter’s moons, supporting both classical mechanics and observational astronomy principles."
   ]
  },
  {
   "cell_type": "markdown",
   "id": "4c8e43e2",
   "metadata": {},
   "source": [
    "---"
   ]
  },
  {
   "cell_type": "markdown",
   "id": "a2fce7fb",
   "metadata": {},
   "source": [
    "#### 1.3. Hypothesis Testing:\n",
    "Perform t-tests or ANOVA to compare means between different groups (e.g., comparing moons with low and high eccentricity)."
   ]
  },
  {
   "cell_type": "code",
   "execution_count": 6,
   "id": "d8bddcc1",
   "metadata": {},
   "outputs": [
    {
     "name": "stdout",
     "output_type": "stream",
     "text": [
      "T-statistic: -0.8447099809213521\n",
      "P-value: 0.4603119486891993\n"
     ]
    }
   ],
   "source": [
    "from scipy.stats import ttest_ind\n",
    "\n",
    "# Example: Compare mean radius for moons with low and high eccentricity\n",
    "low_eccentricity = df[df['Eccentricity'] < df['Eccentricity'].median()]['Mean Radius (km)']\n",
    "high_eccentricity = df[df['Eccentricity'] >= df['Eccentricity'].median()]['Mean Radius (km)']\n",
    "\n",
    "t_stat, p_value = ttest_ind(low_eccentricity, high_eccentricity)\n",
    "print(\"T-statistic:\", t_stat)\n",
    "print(\"P-value:\", p_value)"
   ]
  },
  {
   "cell_type": "markdown",
   "id": "9c8b099a",
   "metadata": {},
   "source": [
    "### 2. Exploratory Data Analysis (EDA)\n",
    "Data Visualization:\n",
    "Scatter plots, histograms, and box plots to visualize distributions and relationships."
   ]
  },
  {
   "cell_type": "code",
   "execution_count": 7,
   "id": "0b971d01",
   "metadata": {},
   "outputs": [
    {
     "data": {
      "image/png": "[encoded data removed]",
      "text/plain": [
       "<Figure size 640x480 with 1 Axes>"
      ]
     },
     "metadata": {},
     "output_type": "display_data"
    },
    {
     "data": {
      "image/png": "[encoded data removed]",
      "text/plain": [
       "<Figure size 640x480 with 1 Axes>"
      ]
     },
     "metadata": {},
     "output_type": "display_data"
    }
   ],
   "source": [
    "import matplotlib.pyplot as plt\n",
    "\n",
    "# Scatter plot for Mean Radius vs Orbital Period\n",
    "plt.scatter(df['Mean Radius (km)'], df['Orbital Period (days)'])\n",
    "plt.xlabel('Mean Radius (km)')\n",
    "plt.ylabel('Orbital Period (days)')\n",
    "plt.title('Mean Radius vs Orbital Period')\n",
    "plt.show()\n",
    "\n",
    "# Histogram for Eccentricity\n",
    "plt.hist(df['Eccentricity'], bins=10)\n",
    "plt.xlabel('Eccentricity')\n",
    "plt.ylabel('Frequency')\n",
    "plt.title('Histogram of Eccentricity')\n",
    "plt.show()"
   ]
  },
  {
   "cell_type": "code",
   "execution_count": 8,
   "id": "0d786cc8",
   "metadata": {},
   "outputs": [],
   "source": [
    "#import seaborn as sns\n",
    "\n",
    "#sns.pairplot(df)\n",
    "#plt.show()"
   ]
  },
  {
   "cell_type": "markdown",
   "id": "0268268d",
   "metadata": {},
   "source": [
    "## 3. Physics Concepts Analysis\n",
    "Orbital Mechanics:\n",
    "Calculate the gravitational force exerted by Jupiter on each moon using the formula \n",
    "𝐹\n",
    "=\n",
    "𝐺\n",
    "⋅\n",
    "𝑀\n",
    "⋅\n",
    "𝑚\n",
    "𝑟\n",
    "2\n",
    "F= \n",
    "r \n",
    "2\n",
    " \n",
    "G⋅M⋅m\n",
    "​\n",
    " ."
   ]
  },
  {
   "cell_type": "code",
   "execution_count": 9,
   "id": "f20223b7",
   "metadata": {},
   "outputs": [
    {
     "name": "stdout",
     "output_type": "stream",
     "text": [
      "       Name  Gravitational Force (N)\n",
      "0     Metis             2.784370e+17\n",
      "1  Adrastea             1.454422e+17\n",
      "2  Amalthea             2.763284e+19\n",
      "3     Thebe             1.998980e+18\n",
      "4        Io             6.364323e+24\n"
     ]
    }
   ],
   "source": [
    "G = 6.67430e-11  # gravitational constant in m^3 kg^-1 s^-2\n",
    "mass_jupiter = 1.898e27  # mass of Jupiter in kg\n",
    "\n",
    "df['Gravitational Force (N)'] = (G * mass_jupiter * df['Mass (10^16 kg)'] * 1e16) / (df['Semimajor Axis (km)'] * 1e3)**2\n",
    "print(df[['Name', 'Gravitational Force (N)']])"
   ]
  },
  {
   "cell_type": "markdown",
   "id": "7302b136",
   "metadata": {},
   "source": [
    "#### Kepler's Third Law:\n",
    "Verify Kepler's third law for the moons: \n",
    "𝑇\n",
    "2\n",
    "∝\n",
    "𝑎\n",
    "3\n",
    "T \n",
    "2\n",
    " ∝a \n",
    "3\n",
    " ."
   ]
  },
  {
   "cell_type": "code",
   "execution_count": 10,
   "id": "2c0ff70b",
   "metadata": {},
   "outputs": [
    {
     "data": {
      "image/png": "[encoded data removed]",
      "text/plain": [
       "<Figure size 640x480 with 1 Axes>"
      ]
     },
     "metadata": {},
     "output_type": "display_data"
    }
   ],
   "source": [
    "df['T^2'] = df['Orbital Period (days)']**2\n",
    "df['a^3'] = df['Semimajor Axis (km)']**3\n",
    "\n",
    "# Plot to check the proportionality\n",
    "plt.scatter(df['T^2'], df['a^3'])\n",
    "plt.xlabel('T^2 (days^2)')\n",
    "plt.ylabel('a^3 (km^3)')\n",
    "plt.title('Kepler\\'s Third Law Verification')\n",
    "plt.show()"
   ]
  },
  {
   "cell_type": "markdown",
   "id": "e77ef865",
   "metadata": {},
   "source": [
    "### Machine Learning"
   ]
  },
  {
   "cell_type": "markdown",
   "id": "538b9bf0",
   "metadata": {},
   "source": [
    "**Clustering:**\n",
    "Group moons based on their characteristics using clustering algorithms like K-Means."
   ]
  },
  {
   "cell_type": "code",
   "execution_count": 11,
   "id": "b7a42d01",
   "metadata": {},
   "outputs": [
    {
     "name": "stderr",
     "output_type": "stream",
     "text": [
      "G:\\Anaconda\\Anaconda\\Lib\\site-packages\\sklearn\\cluster\\_kmeans.py:1446: UserWarning: KMeans is known to have a memory leak on Windows with MKL, when there are less chunks than available threads. You can avoid it by setting the environment variable OMP_NUM_THREADS=1.\n",
      "  warnings.warn(\n"
     ]
    },
    {
     "data": {
      "image/png": "[encoded data removed]",
      "text/plain": [
       "<Figure size 640x480 with 1 Axes>"
      ]
     },
     "metadata": {},
     "output_type": "display_data"
    }
   ],
   "source": [
    "from sklearn.cluster import KMeans\n",
    "\n",
    "# Selecting features for clustering\n",
    "features = df[['Mean Radius (km)', 'Orbital Period (days)', 'Eccentricity', 'Inclination (degrees)', 'Mass (10^16 kg)']].fillna(0)\n",
    "\n",
    "# Performing K-Means clustering\n",
    "kmeans = KMeans(n_clusters=3)\n",
    "df['Cluster'] = kmeans.fit_predict(features)\n",
    "\n",
    "# Visualize the clusters\n",
    "plt.scatter(df['Mean Radius (km)'], df['Orbital Period (days)'], c=df['Cluster'])\n",
    "plt.xlabel('Mean Radius (km)')\n",
    "plt.ylabel('Orbital Period (days)')\n",
    "plt.title('K-Means Clustering of Moons')\n",
    "plt.show()"
   ]
  },
  {
   "cell_type": "markdown",
   "id": "dc7f6ca6",
   "metadata": {},
   "source": [
    "**Regression Analysis:**\n",
    "Predict one variable based on others using linear regression."
   ]
  },
  {
   "cell_type": "code",
   "execution_count": 12,
   "id": "07ede75f",
   "metadata": {},
   "outputs": [
    {
     "name": "stdout",
     "output_type": "stream",
     "text": [
      "Coefficients: [7.54018954e-04 2.28623738e+01]\n",
      "Intercept: 0.30444358561974155\n",
      "       Name  Orbital Period (days)  Predicted Orbital Period\n",
      "0     Metis               0.294780                  0.328669\n",
      "1  Adrastea               0.298260                  0.311984\n",
      "2  Amalthea               0.498179                  0.437876\n",
      "3     Thebe               0.674500                  0.685080\n",
      "4        Io               1.769138                  1.771248\n"
     ]
    }
   ],
   "source": [
    "from sklearn.linear_model import LinearRegression\n",
    "\n",
    "# Predicting Orbital Period based on Mean Radius and Eccentricity\n",
    "X = df[['Mean Radius (km)', 'Eccentricity']]\n",
    "y = df['Orbital Period (days)']\n",
    "\n",
    "model = LinearRegression()\n",
    "model.fit(X, y)\n",
    "\n",
    "# Coefficients\n",
    "print(\"Coefficients:\", model.coef_)\n",
    "print(\"Intercept:\", model.intercept_)\n",
    "\n",
    "# Predictions\n",
    "df['Predicted Orbital Period'] = model.predict(X)\n",
    "print(df[['Name', 'Orbital Period (days)', 'Predicted Orbital Period']])"
   ]
  },
  {
   "cell_type": "markdown",
   "id": "9eefd586",
   "metadata": {},
   "source": [
    "The output of the linear regression analysis provides us with valuable insights into the relationship between the orbital period of Jupiter's moons and the selected features, namely their mean radius and eccentricity. Here's a detailed analysis of the results:\n",
    "\n",
    "#### Coefficients Interpretation\n",
    "\n",
    "The coefficients obtained from the linear regression model are:\n",
    "- Coefficient for Mean Radius (km): \\(7.54018954 \\times 10^{-4}\\)\n",
    "- Coefficient for Eccentricity: \\(22.8623738\\)\n",
    "\n",
    "The intercept of the regression model is approximately \\(0.304443586\\).\n",
    "\n",
    "These coefficients indicate the sensitivity of the orbital period to changes in the mean radius and eccentricity. Specifically:\n",
    "- For every additional kilometer in the mean radius of a moon, the orbital period increases by approximately \\(0.000754\\) days, holding eccentricity constant. This small but positive coefficient suggests that larger moons tend to have slightly longer orbital periods, although the effect is modest.\n",
    "- For every unit increase in eccentricity, the orbital period increases by approximately \\(22.8624\\) days, holding the mean radius constant. This substantial coefficient reflects the significant impact of eccentricity on the orbital period. Higher eccentricity means the moon's orbit is more elongated, leading to a longer path around Jupiter and consequently a longer orbital period.\n",
    "\n",
    "#### Intercept Interpretation\n",
    "\n",
    "The intercept of \\(0.3044\\) days represents the estimated orbital period when both the mean radius and eccentricity are zero. While this scenario is physically unrealistic (since a moon with zero radius or eccentricity is not possible), the intercept serves as a baseline value for the regression equation.\n",
    "\n",
    "#### Predicted Orbital Period vs. Actual Orbital Period\n",
    "\n",
    "The predicted orbital periods calculated by the model for each moon are:\n",
    "- Metis: Predicted \\(0.328669\\) days, Actual \\(0.294780\\) days\n",
    "- Adrastea: Predicted \\(0.311984\\) days, Actual \\(0.298260\\) days\n",
    "- Amalthea: Predicted \\(0.437876\\) days, Actual \\(0.498179\\) days\n",
    "- Thebe: Predicted \\(0.685080\\) days, Actual \\(0.674500\\) days\n",
    "- Io: Predicted \\(1.771248\\) days, Actual \\(1.769138\\) days\n",
    "\n",
    "These predictions are quite close to the actual orbital periods, indicating that the regression model captures the underlying relationship between the orbital period and the chosen features reasonably well.\n",
    "\n",
    "#### Scientific Interpretation\n",
    "\n",
    "The model's coefficients and predictions align with our understanding of orbital mechanics. Larger moons, with their increased mass and gravitational influence, would logically require slightly longer periods to orbit Jupiter, although this effect is secondary to the influence of orbital eccentricity. Eccentricity plays a more pronounced role in determining the orbital period. A more eccentric orbit means a moon travels faster when closer to Jupiter and slower when farther away, resulting in an overall longer orbital period due to the increased distance traveled.\n",
    "\n",
    "The positive correlation between eccentricity and orbital period supports Kepler's laws of planetary motion, particularly the third law, which states that the square of the orbital period is proportional to the cube of the semi-major axis of the orbit. While our model does not directly incorporate the semi-major axis, the mean radius and eccentricity indirectly reflect the spatial characteristics of the moons' orbits.\n",
    "\n",
    "#### Model Evaluation\n",
    "\n",
    "While the model provides reasonable predictions, it is important to evaluate its limitations:\n",
    "- The relatively small coefficient for mean radius suggests that other factors not included in the model might also influence the orbital period.\n",
    "- The substantial coefficient for eccentricity underscores the importance of accurately measuring and including this parameter in any orbital analysis.\n",
    "- The close match between predicted and actual values for the five moons indicates good model performance, but testing with a larger dataset would be necessary to confirm its general applicability.\n",
    "\n",
    "In conclusion, the linear regression model effectively highlights the primary drivers of the orbital period among Jupiter's moons, reinforcing the importance of eccentricity and providing a quantified relationship with the mean radius. This analysis not only validates our understanding of celestial mechanics but also underscores the value of statistical modeling in elucidating complex astronomical phenomena."
   ]
  },
  {
   "cell_type": "markdown",
   "id": "d9d194e7",
   "metadata": {},
   "source": [
    "---"
   ]
  },
  {
   "cell_type": "markdown",
   "id": "33cbe61f",
   "metadata": {},
   "source": [
    "**Principal Component Analysis (PCA):**\n",
    "Reduce dimensionality and identify key features."
   ]
  },
  {
   "cell_type": "code",
   "execution_count": 13,
   "id": "e3e5c74c",
   "metadata": {},
   "outputs": [
    {
     "data": {
      "image/png": "[encoded data removed]",
      "text/plain": [
       "<Figure size 640x480 with 1 Axes>"
      ]
     },
     "metadata": {},
     "output_type": "display_data"
    }
   ],
   "source": [
    "from sklearn.decomposition import PCA\n",
    "\n",
    "# Selecting features for PCA\n",
    "features = df[['Mean Radius (km)', 'Orbital Period (days)', 'Eccentricity', 'Inclination (degrees)', 'Mass (10^16 kg)']].fillna(0)\n",
    "\n",
    "# Applying PCA\n",
    "pca = PCA(n_components=2)\n",
    "principal_components = pca.fit_transform(features)\n",
    "df_pca = pd.DataFrame(data=principal_components, columns=['Principal Component 1', 'Principal Component 2'])\n",
    "\n",
    "# Visualize PCA\n",
    "plt.scatter(df_pca['Principal Component 1'], df_pca['Principal Component 2'])\n",
    "plt.xlabel('Principal Component 1')\n",
    "plt.ylabel('Principal Component 2')\n",
    "plt.title('PCA of Moons')\n",
    "plt.show()"
   ]
  },
  {
   "cell_type": "markdown",
   "id": "8ecdf07c",
   "metadata": {},
   "source": [
    "## Conclusion\n",
    "\n",
    "#### Final Conclusion\n",
    "\n",
    "This project has provided a comprehensive analysis of Jupiter's moons using a dataset encompassing various physical and orbital characteristics. By leveraging statistical analysis, exploratory data analysis (EDA), physics concepts, and machine learning techniques, we have gained valuable insights into the intricate dynamics governing these celestial bodies.\n",
    "\n",
    "#### Key Findings:\n",
    "\n",
    "1. **Kepler's Third Law Validation:**\n",
    "   The near-perfect correlation between the semimajor axis and the orbital period (0.9975) affirms Kepler's third law, demonstrating that the square of a moon's orbital period is proportional to the cube of its semi-major axis. This foundational principle of celestial mechanics was thoroughly validated by our data.\n",
    "\n",
    "2. **Physical Characteristics Correlation:**\n",
    "   The strong positive correlations among mean radius, mass, surface area, volume, and density highlight the interdependence of these physical attributes. These relationships are consistent with the geometric and mass properties of spherical objects, reinforcing the reliability of the dataset and the underlying physical laws.\n",
    "\n",
    "3. **Eccentricity and Inclination:**\n",
    "   The significant correlation between eccentricity and inclination (0.9050) suggests a close relationship between the shape of a moon's orbit and its tilt relative to Jupiter's equatorial plane. This finding indicates that moons with more elliptical orbits tend to have higher inclinations.\n",
    "\n",
    "4. **Orbital Speed Dynamics:**\n",
    "   The negative correlations of orbital speed with mean radius (-0.8470) and semimajor axis (-0.9661) align with our understanding of orbital mechanics, where moons further from Jupiter move more slowly due to the larger circumferences of their orbits and weaker gravitational forces.\n",
    "\n",
    "5. **Linear Regression Model:**\n",
    "   The linear regression model, with coefficients for mean radius (0.000754) and eccentricity (22.8624), successfully predicted the orbital periods with reasonable accuracy. The model's predictions were close to the actual values, underscoring the significant impact of these features on the orbital period. The intercept of 0.3044 days serves as a baseline, albeit physically unrealistic, indicating the model's reference point.\n",
    "\n",
    "#### Implications and Applications:\n",
    "\n",
    "The insights derived from this project have several scientific and practical implications:\n",
    "\n",
    "- **Celestial Mechanics:**\n",
    "  The validation of fundamental astronomical principles through our data reinforces the predictive power of classical mechanics in understanding celestial bodies' motions.\n",
    "\n",
    "- **Astrophysical Research:**\n",
    "  The detailed correlations among physical characteristics can aid in developing more accurate models of moon formation and evolution, contributing to our broader understanding of planetary systems.\n",
    "\n",
    "- **Space Exploration:**\n",
    "  Understanding the physical and orbital dynamics of Jupiter's moons can inform mission planning and spacecraft navigation, ensuring safer and more efficient exploration of these and other celestial bodies.\n",
    "\n",
    "#### Future Work:\n",
    "\n",
    "1. **Extended Dataset:**\n",
    "   Incorporating additional moons and expanding the dataset can enhance the robustness of our findings and allow for more generalized conclusions.\n",
    "\n",
    "2. **Advanced Modeling:**\n",
    "   Employing more sophisticated machine learning algorithms, such as neural networks or ensemble methods, could improve prediction accuracy and uncover more complex relationships.\n",
    "\n",
    "3. **In-depth Physical Analysis:**\n",
    "   Further analysis incorporating additional physical parameters, such as gravitational interactions among moons, can provide deeper insights into the dynamical evolution of Jupiter's satellite system.\n",
    "\n",
    "In conclusion, this project has successfully demonstrated the application of statistical, exploratory, and machine learning techniques to analyze Jupiter's moons, validating classical astronomical principles and providing a foundation for future research and exploration. The findings underscore the intricate interplay between physical characteristics and orbital dynamics, enhancing our understanding of these fascinating celestial bodies."
   ]
  }
 ],
 "metadata": {
  "kernelspec": {
   "display_name": "Python 3 (ipykernel)",
   "language": "python",
   "name": "python3"
  },
  "language_info": {
   "codemirror_mode": {
    "name": "ipython",
    "version": 3
   },
   "file_extension": ".py",
   "mimetype": "text/x-python",
   "name": "python",
   "nbconvert_exporter": "python",
   "pygments_lexer": "ipython3",
   "version": "3.11.4"
  }
 },
 "nbformat": 4,
 "nbformat_minor": 5
}
